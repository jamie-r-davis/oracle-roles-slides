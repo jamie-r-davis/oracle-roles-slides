{
 "cells": [
  {
   "cell_type": "markdown",
   "id": "1582fd3a",
   "metadata": {
    "slideshow": {
     "slide_type": "slide"
    }
   },
   "source": [
    "# Guess Who…\n",
    "<small>…has Oracle access to HRDW1 tables?</small>"
   ]
  },
  {
   "cell_type": "markdown",
   "id": "e43acf75",
   "metadata": {
    "slideshow": {
     "slide_type": "subslide"
    }
   },
   "source": [
    "## Real-World Scenario: HRDW1"
   ]
  },
  {
   "cell_type": "markdown",
   "id": "3d8ff9b8",
   "metadata": {
    "slideshow": {
     "slide_type": "fragment"
    }
   },
   "source": [
    "- Which users have access to HRDW1?"
   ]
  },
  {
   "cell_type": "markdown",
   "id": "6402db63",
   "metadata": {
    "slideshow": {
     "slide_type": "fragment"
    }
   },
   "source": [
    "- Which RDA accounts have access to HRDW1?"
   ]
  },
  {
   "cell_type": "markdown",
   "id": "53d52b20",
   "metadata": {
    "slideshow": {
     "slide_type": "fragment"
    }
   },
   "source": [
    "- Who has access to the `hrdw1.job` table?"
   ]
  },
  {
   "cell_type": "markdown",
   "id": "f3b49302",
   "metadata": {
    "slideshow": {
     "slide_type": "slide"
    }
   },
   "source": [
    "<h2>\n",
    "  <span style=\"color: #ccc; font-size: .75em;\">First Idea</span><br>\n",
    "  Access Validation\n",
    "</h2>\n",
    "\n",
    "`acdw.user_data` & `acdw.user_role`"
   ]
  },
  {
   "cell_type": "markdown",
   "id": "cdcd9f95",
   "metadata": {
    "slideshow": {
     "slide_type": "subslide"
    }
   },
   "source": [
    "| User | Role | System |\n",
    "| :--- | :--- | :---: |\n",
    "| JAMJAM | 9F0893E0-ACDA-4113-B3D7-DE745F0D1BE3 | MRPT |\n",
    "| JAMJAM | A User WebIntelligence XI | DW |\n",
    "| JAMJAM | DAA University Housing Modify | DW |\n",
    "| JAMJAM | IQ\\_PROD\\_SUPPORT\\_SEL | DW |\n",
    "| JAMJAM | M\\_RADW1\\_SEL | DW |\n",
    "| JAMJAM | M\\_SRDW1\\_ADDR\\_SEL | DW |\n",
    "| JAMJAM | Stu Admiss\\_Def | DW |\n",
    "| JAMJAM | Stu Life Exp\\_Def | DW |"
   ]
  },
  {
   "cell_type": "markdown",
   "id": "51aaa124",
   "metadata": {
    "slideshow": {
     "slide_type": "subslide"
    }
   },
   "source": [
    "**A couple of issues**"
   ]
  },
  {
   "cell_type": "markdown",
   "id": "47b59181",
   "metadata": {
    "slideshow": {
     "slide_type": "fragment"
    }
   },
   "source": [
    "- Doesn't say which tables belong to a role"
   ]
  },
  {
   "cell_type": "markdown",
   "id": "b11c4d2b",
   "metadata": {
    "slideshow": {
     "slide_type": "fragment"
    }
   },
   "source": [
    "- Only shows top-level roles assigned to people"
   ]
  },
  {
   "cell_type": "markdown",
   "id": "cdc16b48",
   "metadata": {
    "slideshow": {
     "slide_type": "fragment"
    }
   },
   "source": [
    "- Does not contain info about RDA access"
   ]
  },
  {
   "cell_type": "markdown",
   "id": "9ea6a354",
   "metadata": {
    "slideshow": {
     "slide_type": "slide"
    }
   },
   "source": [
    "<h2>\n",
    "  <span style=\"color: #ccc; font-size: .75em;\">Second Idea</span><br>\n",
    "  Query Oracle Security Tables\n",
    "</h2>"
   ]
  },
  {
   "cell_type": "markdown",
   "id": "410e1681",
   "metadata": {
    "slideshow": {
     "slide_type": "subslide"
    }
   },
   "source": [
    "## How permissions work in Oracle"
   ]
  },
  {
   "cell_type": "markdown",
   "id": "8e648d5f",
   "metadata": {
    "slideshow": {
     "slide_type": "fragment"
    }
   },
   "source": [
    "![img](static/grants.svg)"
   ]
  },
  {
   "cell_type": "markdown",
   "id": "2051758f",
   "metadata": {
    "slideshow": {
     "slide_type": "subslide"
    }
   },
   "source": [
    "## How to query Oracle permissions"
   ]
  },
  {
   "cell_type": "markdown",
   "id": "bc759669",
   "metadata": {
    "slideshow": {
     "slide_type": "subslide"
    }
   },
   "source": [
    "### Three tables to know"
   ]
  },
  {
   "cell_type": "markdown",
   "id": "d4cd05ad",
   "metadata": {
    "slideshow": {
     "slide_type": "fragment"
    }
   },
   "source": [
    "#### `all_users`\n",
    "All user accounts in the database"
   ]
  },
  {
   "cell_type": "markdown",
   "id": "3d5bc0aa",
   "metadata": {
    "slideshow": {
     "slide_type": "fragment"
    }
   },
   "source": [
    "#### `dba_role_privs`\n",
    "Mapping of `grantee` to `granted_role` where `grantee` can be either a user or a role"
   ]
  },
  {
   "cell_type": "markdown",
   "id": "0abbec9d",
   "metadata": {
    "slideshow": {
     "slide_type": "fragment"
    }
   },
   "source": [
    "#### `dba_tab_privs`\n",
    "Mapping of `grantee` to a specific table (`owner`.`table_name`) and `privelege` (`select`, `delete`, etc.)"
   ]
  },
  {
   "cell_type": "markdown",
   "id": "92c53803",
   "metadata": {
    "slideshow": {
     "slide_type": "subslide"
    }
   },
   "source": [
    "### One Gotcha... Recursive Joins"
   ]
  },
  {
   "cell_type": "markdown",
   "id": "82470093",
   "metadata": {
    "slideshow": {
     "slide_type": "fragment"
    }
   },
   "source": [
    "![recursive joins](static/recursive-links.svg)"
   ]
  },
  {
   "cell_type": "markdown",
   "id": "51edd718",
   "metadata": {
    "slideshow": {
     "slide_type": "subslide"
    }
   },
   "source": [
    "Recursive joins via `start with` & `connect by`\n",
    "\n",
    "```sql\n",
    "with hrdw1_folks as (\n",
    "    select grantee from dba_tab_privs where owner = 'M_HRDW1'\n",
    ")\n",
    "\n",
    "select\n",
    "  grantee,\n",
    "  granted_role\n",
    "from dba_role_privs\n",
    "  start with granted_role in (select grantee from hrdw1_folks)\n",
    "    connect by prior grantee = granted_role\n",
    "```\n",
    "\n",
    "References:\n",
    "- [Oracle's Pretty Docs](https://livesql.oracle.com/apex/livesql/file/tutorial_GQMLEEPG5ARVSIFGQRD3SES92.html)\n",
    "- [Oracle's Ugly Docs](https://docs.oracle.com/en/database/oracle/oracle-database/21/sqlrf/Hierarchical-Queries.html#GUID-0118DF1D-B9A9-41EB-8556-C6E7D6A5A84E)"
   ]
  },
  {
   "cell_type": "markdown",
   "id": "13e7a777",
   "metadata": {
    "slideshow": {
     "slide_type": "subslide"
    }
   },
   "source": [
    "How we can (prettily) identify all users who have access to a particular schema:"
   ]
  },
  {
   "cell_type": "markdown",
   "id": "ecdd4704",
   "metadata": {
    "slideshow": {
     "slide_type": "subslide"
    }
   },
   "source": [
    "<div style=\"--jp-code-font-size: 10px;\">\n",
    "    \n",
    "```sql\n",
    "with table_grants as (\n",
    "  -- collection of roles that have been granted schema access\n",
    "  select distinct\n",
    "    grantee,\n",
    "    owner\n",
    "  from dba_tab_privs\n",
    "  where\n",
    "    owner = :schema\n",
    "),\n",
    "\n",
    "permissions as (\n",
    "  -- build permissions tree through recursion\n",
    "  select\n",
    "    grantee,\n",
    "    granted_role,\n",
    "    connect_by_root granted_role as root,\n",
    "    substr(sys_connect_by_path(granted_role, '.'), 2) as path\n",
    "  from dba_role_privs\n",
    "    start with granted_role in (select grantee from table_grants)\n",
    "      connect by granted_role = prior grantee\n",
    "\n",
    "  union\n",
    "\n",
    "  -- create dummy permission for direct grants\n",
    "  select\n",
    "    username as grantee,\n",
    "    username as granted_role,\n",
    "    username as root,\n",
    "    username as path\n",
    "  from all_users\n",
    "  where\n",
    "    username in (select grantee from table_grants)\n",
    "),\n",
    "\n",
    "final as (\n",
    "  -- tidy up output\n",
    "  select\n",
    "    :schema as schema,\n",
    "    a.grantee as username,\n",
    "    listagg(distinct a.path, chr(10)) within group (order by a.path) as permissions,\n",
    "    listagg(distinct b.table_name, chr(10)) within group (order by b.table_name) as tables\n",
    "  from permissions a\n",
    "    join dba_tab_privs b on a.root = b.grantee and b.owner = :schema\n",
    "  group by a.grantee\n",
    ")\n",
    "\n",
    "select * from final order by username\n",
    "```\n",
    "    \n",
    "</div>"
   ]
  },
  {
   "cell_type": "markdown",
   "id": "49bb9acb",
   "metadata": {
    "slideshow": {
     "slide_type": "subslide"
    }
   },
   "source": [
    "| Schema | Username | Permissions | Tables |\n",
    "| :--- | :--- | :--- | :--- |\n",
    "| M_HRDW1 | JAMJAM | ACDW1_DEF_SEL.IQ_PROD_SUPPORT_SEL<br>IQ_PROD_SUPPORT_SEL<br>M_CRDW1_DEF_SEL.IQ_PROD_SUPPORT_SEL<br>M_HRDW1_MARKET_SEL.IQ_PROD_SUPPORT_SEL<br>M_PYDW1_EMPL_CONTRIB_SEL.IQ_PROD_SUPPORT_SEL<br>M_TLDW1_DEF_SEL.IQ_PROD_SUPPORT_SEL |  ADDL_PAY_DATA<br>ADMINISTRATIVE_PMODS<br>CONTRACT<br>DBE_MONTHLY_CROSSTAB_VW<br>DEPT_BUDGET_ERN<br>... |\n",
    "| M_HRDW1 |RMTBUSSCHOOL_DWPROD5 | RMTBUSSCHOOL_DWPROD5_SEL | HE_DEPT_TBL |\n",
    "| … | … | … | … |\n"
   ]
  }
 ],
 "metadata": {
  "celltoolbar": "Slideshow",
  "kernelspec": {
   "display_name": "Python 3 (ipykernel)",
   "language": "python",
   "name": "python3"
  },
  "language_info": {
   "codemirror_mode": {
    "name": "ipython",
    "version": 3
   },
   "file_extension": ".py",
   "mimetype": "text/x-python",
   "name": "python",
   "nbconvert_exporter": "python",
   "pygments_lexer": "ipython3",
   "version": "3.11.2"
  }
 },
 "nbformat": 4,
 "nbformat_minor": 5
}
